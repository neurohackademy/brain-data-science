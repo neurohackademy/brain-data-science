{
 "cells": [
  {
   "cell_type": "markdown",
   "metadata": {},
   "source": [
    "# Numerical computing in Python\n",
    "\n",
    "Data from neuroscience experiments is often stored in big tables of data called arrays. Much like Python lists or tuples, the items in an array follow a particular order. But in contrast to a list or a tuple, they can have multiple dimensions: these arrays can have one dimension (for example a time-series from a single channel of an EEG recording), two dimensions (for example all the time-series from multiple EEG channels recorded simultaneously), three dimensions (for example, an anatomical scan of a human brain), four dimensions (for example, an fMRI dataset with the three spatial dimensions and volumes arranged as a series along the last dimension) or more.  \n",
    "\n",
    "In all these cases, the arrays are *continuous*. That means that there are no holes in an array, where nothing is storred. They are also *homogeneous*, which means that all of the items in an array are of the same data type (XXX need to come back and see whether we have defined data types by this point). That is, if one number stored in the array is a floating point number, all numbers in the array will be represented in their floating point representation. It also means that the dimensions of the array are predictable. If the first channel of the EEG time-series has 20,000 time-points in it, the second channel would also have 20,000 time-points in it. If the first slice of an MRI image has 64-by-64 voxels, other slices in the MRI image would also have 64-by-64 voxels.\n",
    "\n",
    "As we'll see in a few of the examples to follow, arrays simplify some computations. They also make a lot of computations go much faster. Let's start with how you would create an array and assign it to a variable."
   ]
  },
  {
   "cell_type": "markdown",
   "metadata": {},
   "source": [
    "The library can be imported using the `import` key word. We use `import numpy as np` to create a short name for the library that we can refer to. Everything that is in `numpy` will now be accessible through the short name `np`. This is not a requirement, but it is a very strongly-held convention and when you read code that others have written, you will find that this the form that is very often used."
   ]
  },
  {
   "cell_type": "code",
   "execution_count": 1,
   "metadata": {},
   "outputs": [],
   "source": [
    "import numpy as np"
   ]
  },
  {
   "cell_type": "markdown",
   "metadata": {},
   "source": [
    "The fundamental data structure of the library is called an `ndarray`. This is exactly what we described above: a table that holds items in it. To create one of these objects, we call the `np.array` function:"
   ]
  },
  {
   "cell_type": "code",
   "execution_count": 2,
   "metadata": {},
   "outputs": [],
   "source": [
    "list_of_numbers = [1, 1, 2, 3, 5]\n",
    "arr1 = np.array(list_of_numbers)"
   ]
  },
  {
   "cell_type": "markdown",
   "metadata": {},
   "source": [
    "The input to the `np.array` function is a sequence of items. In this case, the list holds the integers from 1 to 5. Let's see what we got:"
   ]
  },
  {
   "cell_type": "code",
   "execution_count": 3,
   "metadata": {},
   "outputs": [
    {
     "name": "stdout",
     "output_type": "stream",
     "text": [
      "[1 1 2 3 5]\n"
     ]
    }
   ],
   "source": [
    "print(arr1)"
   ]
  },
  {
   "cell_type": "markdown",
   "metadata": {},
   "source": [
    "This looks a lot like a list of numbers, but let's look at some of the attributes that this variable has that are not available in lists. "
   ]
  },
  {
   "cell_type": "code",
   "execution_count": 4,
   "metadata": {},
   "outputs": [
    {
     "name": "stdout",
     "output_type": "stream",
     "text": [
      "The shape of the array is (5,)\n",
      "The dtype of the array is int64\n",
      "The size of each item is 8\n",
      "The strides of the array is (8,)\n"
     ]
    }
   ],
   "source": [
    "print(\"The shape of the array is\", arr1.shape)\n",
    "print(\"The dtype of the array is\", arr1.dtype)\n",
    "print(\"The size of each item is\", arr1.itemsize)\n",
    "print(\"The strides of the array is\", arr1.strides)"
   ]
  },
  {
   "cell_type": "markdown",
   "metadata": {},
   "source": [
    "She shape of an array is its dimensionality. In this case, the array is one-dimensional (like the single channel of EEG data in the example above). All of the items in this array are integers, so we can use an integer representation as the dtype of the array. This means that each element of the array takes up 8 bytes of memory. Using the 64-bit integers, we can represent the numbers from -9223372036854775808 to 9223372036854775807. And each one would take up 8 bytes of memory in our computer (which are 64 bits). This also explains the strides. Strides are the number of bytes in memory that we would have to skip to get to the next value in the array. Because the array is packed densly in a contiguous bit of memory, to get from the value `1` to the value `2`, for example, we have to skip 8 bytes.\n",
    "\n",
    "![](./figures/numpy_arrays1.jpg)"
   ]
  },
  {
   "cell_type": "markdown",
   "metadata": {},
   "source": [
    "Remember that arrays can have multiple dimensions. We can create an array with multiple dimensions by providing more than one list, each with the same number of items"
   ]
  },
  {
   "cell_type": "code",
   "execution_count": 5,
   "metadata": {},
   "outputs": [],
   "source": [
    "list_of_lists = [[1,1,2,3,5], [8,13,21,34,55]]\n",
    "arr2 = np.array(list_of_lists)"
   ]
  },
  {
   "cell_type": "markdown",
   "metadata": {},
   "source": [
    "We'll get something like this"
   ]
  },
  {
   "cell_type": "code",
   "execution_count": 6,
   "metadata": {},
   "outputs": [
    {
     "name": "stdout",
     "output_type": "stream",
     "text": [
      "[[ 1  1  2  3  5]\n",
      " [ 8 13 21 34 55]]\n",
      "The shape of this array is (2, 5)\n",
      "The dtype of this array is int64\n",
      "The size of each item is 8\n",
      "The strides of this array are (40, 8)\n"
     ]
    }
   ],
   "source": [
    "print(arr2)\n",
    "print(\"The shape of this array is\", arr2.shape)\n",
    "print(\"The dtype of this array is\", arr2.dtype)\n",
    "print(\"The size of each item is\", arr2.itemsize)\n",
    "print(\"The strides of this array are\", arr2.strides)"
   ]
  },
  {
   "cell_type": "markdown",
   "metadata": {},
   "source": [
    "Now, the shape of the array is 2 items: the first is the number of rows in the array (2) and the second is the number of items in each row (5). You can also think of that as rows (2 rows) and columns (5 columns), because each item in the first row of the array has an item matching it in terms of its column in the second row. For example, the number `2` in the first row is equivalent to the number `21` in the second row in that they are both the third item in their particular rows. Or, in other words, they share the third column in the array. The items are still each 8 bytes in size, but now there are two items in the strides: `(40, 8)`. The first item tells us how many bytes we have to move to get from one row to the next row (for example, from the \n",
    "\n",
    "![](./figures/numpy_arrays2.jpg)"
   ]
  },
  {
   "cell_type": "markdown",
   "metadata": {},
   "source": [
    "We've stored some data from an fMRI experiment in a numpy array, you can load it using our `load_data` utility function:"
   ]
  },
  {
   "cell_type": "code",
   "execution_count": 7,
   "metadata": {},
   "outputs": [],
   "source": [
    "from bdslib import load_data"
   ]
  },
  {
   "cell_type": "markdown",
   "metadata": {},
   "source": [
    "This `load_data` function takes as instructions the name of the dataset that we would like to download and alternatively also the name of a file that we would like to save the data into (for reuse). The `npy` file format is a format that was developed specifically to store numpy arrays and that's all that it knows how to store. When you load one of these files, you can assign into a variable the contents of the array that was stored in the file."
   ]
  },
  {
   "cell_type": "code",
   "execution_count": 8,
   "metadata": {},
   "outputs": [],
   "source": [
    "bold = load_data(\"bold_numpy\", fname=\"bold.npy\")"
   ]
  },
  {
   "cell_type": "code",
   "execution_count": 9,
   "metadata": {},
   "outputs": [
    {
     "name": "stdout",
     "output_type": "stream",
     "text": [
      "The shape of the data is (64, 64, 25, 180)\n",
      "The dtype of the data is float64\n",
      "The dtype of the data is (8, 512, 32768, 819200)\n"
     ]
    }
   ],
   "source": [
    "print(\"The shape of the data is\", bold.shape)\n",
    "print(\"The dtype of the data is\", bold.dtype)\n",
    "print(\"The dtype of the data is\", bold.strides)"
   ]
  },
  {
   "cell_type": "code",
   "execution_count": 10,
   "metadata": {},
   "outputs": [
    {
     "name": "stdout",
     "output_type": "stream",
     "text": [
      "27.384290220586703\n"
     ]
    },
    {
     "name": "stderr",
     "output_type": "stream",
     "text": [
      "/Users/arokem/.virtualenvs/bds/lib/python3.7/site-packages/ipykernel_launcher.py:1: RuntimeWarning: invalid value encountered in true_divide\n",
      "  \"\"\"Entry point for launching an IPython kernel.\n"
     ]
    }
   ],
   "source": [
    "tsnr = bold.mean(-1) / bold.std(-1)\n",
    "\n",
    "print(tsnr[tsnr.shape[0]//2, tsnr.shape[1]//2, tsnr.shape[2]//2])"
   ]
  },
  {
   "cell_type": "markdown",
   "metadata": {},
   "source": [
    "# Exercises"
   ]
  },
  {
   "cell_type": "markdown",
   "metadata": {
    "solution2": "shown",
    "solution2_first": true
   },
   "source": [
    "Creating an array: create an array that contains the sequence of numbers from 1 to 99 in steps of 2: [1, 3, 5, ..., 99]"
   ]
  },
  {
   "cell_type": "code",
   "execution_count": 11,
   "metadata": {
    "solution2": "shown"
   },
   "outputs": [],
   "source": [
    "answer1 = np.arange(1, 100, 2)"
   ]
  },
  {
   "cell_type": "markdown",
   "metadata": {
    "solution2": "shown",
    "solution2_first": true
   },
   "source": [
    "Creating an array of 1's: create an array of shape (3, 5) containing only the number 1"
   ]
  },
  {
   "cell_type": "code",
   "execution_count": 12,
   "metadata": {
    "solution2": "shown"
   },
   "outputs": [],
   "source": [
    "answer2 = np.ones((3, 5))"
   ]
  },
  {
   "cell_type": "markdown",
   "metadata": {
    "solution2": "shown",
    "solution2_first": true
   },
   "source": [
    "Find all the items in an array containing numbers that have values that are larger than 0 and smaller or equal to 100"
   ]
  },
  {
   "cell_type": "code",
   "execution_count": 13,
   "metadata": {
    "solution2": "shown"
   },
   "outputs": [],
   "source": [
    "answer3 = (answer1 > 0) & (answer1 <=100)"
   ]
  },
  {
   "cell_type": "markdown",
   "metadata": {
    "solution2": "shown",
    "solution2_first": true
   },
   "source": [
    "Find all the items in the array `answer1` that can be divided by 3 with no remainder (hint: the function `np.mod` executes the modulu operation on every item in the array)."
   ]
  },
  {
   "cell_type": "code",
   "execution_count": 14,
   "metadata": {
    "solution2": "shown"
   },
   "outputs": [],
   "source": [
    "answer4 = np.mod(answer1, 3) == 0"
   ]
  },
  {
   "cell_type": "code",
   "execution_count": null,
   "metadata": {},
   "outputs": [],
   "source": []
  },
  {
   "cell_type": "code",
   "execution_count": null,
   "metadata": {
    "solution2": "hidden",
    "solution2_first": true
   },
   "outputs": [],
   "source": []
  }
 ],
 "metadata": {
  "file_extension": ".py",
  "kernelspec": {
   "display_name": "Python 3",
   "language": "python",
   "name": "python3"
  },
  "language_info": {
   "codemirror_mode": {
    "name": "ipython",
    "version": 3
   },
   "file_extension": ".py",
   "mimetype": "text/x-python",
   "name": "python",
   "nbconvert_exporter": "python",
   "pygments_lexer": "ipython3",
   "version": "3.7.0"
  },
  "mimetype": "text/x-python",
  "name": "python",
  "npconvert_exporter": "python",
  "pygments_lexer": "ipython3",
  "version": 3
 },
 "nbformat": 4,
 "nbformat_minor": 2
}
